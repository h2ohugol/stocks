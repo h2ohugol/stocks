{
 "cells": [
  {
   "cell_type": "markdown",
   "metadata": {},
   "source": [
    "# Stocks"
   ]
  },
  {
   "cell_type": "code",
   "execution_count": 21,
   "metadata": {},
   "outputs": [],
   "source": [
    "# Financial data.\n",
    "import yfinance as yf\n",
    "\n",
    "# Dates and times.\n",
    "import datetime as dt"
   ]
  },
  {
   "cell_type": "code",
   "execution_count": 22,
   "metadata": {},
   "outputs": [
    {
     "name": "stderr",
     "output_type": "stream",
     "text": [
      "[*********************100%***********************]  3 of 3 completed\n"
     ]
    }
   ],
   "source": [
    "# Get data for Microsoft, Apple, and Google.\n",
    "df = yf.download(['MSFT', 'AAPL', 'GOOG'], period=\"1d\", interval=\"1m\")"
   ]
  },
  {
   "cell_type": "code",
   "execution_count": 23,
   "metadata": {},
   "outputs": [
    {
     "data": {
      "text/html": [
       "<div>\n",
       "<style scoped>\n",
       "    .dataframe tbody tr th:only-of-type {\n",
       "        vertical-align: middle;\n",
       "    }\n",
       "\n",
       "    .dataframe tbody tr th {\n",
       "        vertical-align: top;\n",
       "    }\n",
       "\n",
       "    .dataframe thead th {\n",
       "        text-align: right;\n",
       "    }\n",
       "</style>\n",
       "<table border=\"1\" class=\"dataframe\">\n",
       "  <thead>\n",
       "    <tr style=\"text-align: right;\">\n",
       "      <th>Ticker</th>\n",
       "      <th>AAPL</th>\n",
       "      <th>GOOG</th>\n",
       "      <th>MSFT</th>\n",
       "    </tr>\n",
       "    <tr>\n",
       "      <th>Datetime</th>\n",
       "      <th></th>\n",
       "      <th></th>\n",
       "      <th></th>\n",
       "    </tr>\n",
       "  </thead>\n",
       "  <tbody>\n",
       "    <tr>\n",
       "      <th>2024-11-22 14:30:00+00:00</th>\n",
       "      <td>228.731003</td>\n",
       "      <td>166.675003</td>\n",
       "      <td>412.040009</td>\n",
       "    </tr>\n",
       "    <tr>\n",
       "      <th>2024-11-22 14:31:00+00:00</th>\n",
       "      <td>228.759995</td>\n",
       "      <td>165.720001</td>\n",
       "      <td>411.464996</td>\n",
       "    </tr>\n",
       "    <tr>\n",
       "      <th>2024-11-22 14:32:00+00:00</th>\n",
       "      <td>229.001007</td>\n",
       "      <td>166.940002</td>\n",
       "      <td>412.230011</td>\n",
       "    </tr>\n",
       "    <tr>\n",
       "      <th>2024-11-22 14:33:00+00:00</th>\n",
       "      <td>228.970001</td>\n",
       "      <td>166.860001</td>\n",
       "      <td>412.635010</td>\n",
       "    </tr>\n",
       "    <tr>\n",
       "      <th>2024-11-22 14:34:00+00:00</th>\n",
       "      <td>228.779999</td>\n",
       "      <td>167.039993</td>\n",
       "      <td>412.809906</td>\n",
       "    </tr>\n",
       "    <tr>\n",
       "      <th>...</th>\n",
       "      <td>...</td>\n",
       "      <td>...</td>\n",
       "      <td>...</td>\n",
       "    </tr>\n",
       "    <tr>\n",
       "      <th>2024-11-22 20:55:00+00:00</th>\n",
       "      <td>229.850006</td>\n",
       "      <td>166.669998</td>\n",
       "      <td>416.779999</td>\n",
       "    </tr>\n",
       "    <tr>\n",
       "      <th>2024-11-22 20:56:00+00:00</th>\n",
       "      <td>229.889999</td>\n",
       "      <td>166.610001</td>\n",
       "      <td>416.740906</td>\n",
       "    </tr>\n",
       "    <tr>\n",
       "      <th>2024-11-22 20:57:00+00:00</th>\n",
       "      <td>230.005005</td>\n",
       "      <td>166.585007</td>\n",
       "      <td>416.869995</td>\n",
       "    </tr>\n",
       "    <tr>\n",
       "      <th>2024-11-22 20:58:00+00:00</th>\n",
       "      <td>230.020004</td>\n",
       "      <td>166.610001</td>\n",
       "      <td>417.089996</td>\n",
       "    </tr>\n",
       "    <tr>\n",
       "      <th>2024-11-22 20:59:00+00:00</th>\n",
       "      <td>229.759995</td>\n",
       "      <td>166.539993</td>\n",
       "      <td>416.829987</td>\n",
       "    </tr>\n",
       "  </tbody>\n",
       "</table>\n",
       "<p>390 rows × 3 columns</p>\n",
       "</div>"
      ],
      "text/plain": [
       "Ticker                           AAPL        GOOG        MSFT\n",
       "Datetime                                                     \n",
       "2024-11-22 14:30:00+00:00  228.731003  166.675003  412.040009\n",
       "2024-11-22 14:31:00+00:00  228.759995  165.720001  411.464996\n",
       "2024-11-22 14:32:00+00:00  229.001007  166.940002  412.230011\n",
       "2024-11-22 14:33:00+00:00  228.970001  166.860001  412.635010\n",
       "2024-11-22 14:34:00+00:00  228.779999  167.039993  412.809906\n",
       "...                               ...         ...         ...\n",
       "2024-11-22 20:55:00+00:00  229.850006  166.669998  416.779999\n",
       "2024-11-22 20:56:00+00:00  229.889999  166.610001  416.740906\n",
       "2024-11-22 20:57:00+00:00  230.005005  166.585007  416.869995\n",
       "2024-11-22 20:58:00+00:00  230.020004  166.610001  417.089996\n",
       "2024-11-22 20:59:00+00:00  229.759995  166.539993  416.829987\n",
       "\n",
       "[390 rows x 3 columns]"
      ]
     },
     "execution_count": 23,
     "metadata": {},
     "output_type": "execute_result"
    }
   ],
   "source": [
    "# Just the closing prices.\n",
    "df['Close']"
   ]
  },
  {
   "cell_type": "code",
   "execution_count": 24,
   "metadata": {},
   "outputs": [
    {
     "data": {
      "text/plain": [
       "'data/20241124_153337.csv'"
      ]
     },
     "execution_count": 24,
     "metadata": {},
     "output_type": "execute_result"
    }
   ],
   "source": [
    "# Get the current date and time.\n",
    "filename = dt.datetime.now()\n",
    "# Create a string from the current date and time.\n",
    "filename = filename.strftime(\"%Y%m%d_%H%M%S\")\n",
    "# Prepend data folders, append file extension.\n",
    "filename = 'data/' + filename + \".csv\"\n",
    "\n",
    "# Show the filename.\n",
    "filename"
   ]
  },
  {
   "cell_type": "code",
   "execution_count": 25,
   "metadata": {},
   "outputs": [],
   "source": [
    "# Save the data to a CSV file.\n",
    "df['Close'].to_csv(filename)"
   ]
  },
  {
   "cell_type": "markdown",
   "metadata": {},
   "source": [
    "## End"
   ]
  }
 ],
 "metadata": {
  "kernelspec": {
   "display_name": "Python 3",
   "language": "python",
   "name": "python3"
  },
  "language_info": {
   "codemirror_mode": {
    "name": "ipython",
    "version": 3
   },
   "file_extension": ".py",
   "mimetype": "text/x-python",
   "name": "python",
   "nbconvert_exporter": "python",
   "pygments_lexer": "ipython3",
   "version": "3.12.1"
  }
 },
 "nbformat": 4,
 "nbformat_minor": 2
}
